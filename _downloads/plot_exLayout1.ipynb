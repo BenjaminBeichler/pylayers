{
  "metadata": {
    "kernelspec": {
      "name": "python3",
      "language": "python",
      "display_name": "Python 3"
    },
    "language_info": {
      "name": "python",
      "version": "3.5.4",
      "nbconvert_exporter": "python",
      "mimetype": "text/x-python",
      "codemirror_mode": {
        "name": "ipython",
        "version": 3
      },
      "file_extension": ".py",
      "pygments_lexer": "ipython3"
    }
  },
  "nbformat_minor": 0,
  "cells": [
    {
      "metadata": {
        "collapsed": false
      },
      "outputs": [],
      "source": [
        "%matplotlib inline"
      ],
      "cell_type": "code",
      "execution_count": null
    },
    {
      "metadata": {},
      "cell_type": "markdown",
      "source": [
        "\n# Loading an outdoor layout from its address\n\n\n\n"
      ]
    },
    {
      "metadata": {
        "collapsed": false
      },
      "outputs": [],
      "source": [
        "from pylayers.gis.layout import *\n# Load the layout from open street map\nL = Layout('Servon sur Vilaine',dist_m=50,typ='outdoor')\n# Show the layout\nL.showG('s')\nplt.show()"
      ],
      "cell_type": "code",
      "execution_count": null
    }
  ],
  "nbformat": 4
}