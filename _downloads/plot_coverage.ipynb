{
  "nbformat": 4,
  "cells": [
    {
      "execution_count": null,
      "cell_type": "code",
      "source": [
        "%matplotlib inline"
      ],
      "metadata": {
        "collapsed": false
      },
      "outputs": []
    },
    {
      "cell_type": "markdown",
      "metadata": {},
      "source": [
        "\n# Indoor Radio Coverage with Motley Keenan\n\n\nThis is an example of Motley-Keenan coverage\n\nThe default configuration file coverage.ini.\nThe antenna assoaciated to each Access Point are handled in the module\npylayers/antprop/antenna.py\n\n    [grid]\n    nx = 80\n    ny = 40\n    boundary = [20,0,30,20]\n    mode = full ; file, zone , full\n    file = 'points.ini'\n\n    [layout]\n    filename = TA-Office.lay ; 0 40 0 15\n    ;filename = W2PTIN.lay\n    ;filename = Lstruc.lay\n\n    [ap]\n    0 = {'name':'Gauss90','wstd':'ieee80211b','p':(1,12,1.2),'PtdBm':0,'chan':[11],'on':True,'ant':'Gauss','phideg':90}\n    1 = {'name':'Omni','wstd':'ieee80211b','p':(10,2,1.2),'PtdBm':0,'chan':[11],'on':True,'ant':'Omni','phideg':0}\n    2 = {'name':'Gauss75','wstd':'ieee80211b','p':(20,1,1.2),'PtdBm':0,'chan':[11],'on':True,'ant':'Gauss','phideg':75}\n    3 = {'name':'Gauss120','wstd':'ieee80211b','p':(36.5,1.5,1.2),'PtdBm':0,'chan':[11],'on':True,'ant':'Gauss','phideg':120}\n    4 = {'name':'Gauss180','wstd':'ieee80211b','p':(25,12,1.2),'PtdBm':0,'chan':[11],'on':True,'ant':'Gauss','phideg':180}\n\n    [rx]\n    temperaturek = 300\n    noisefactordb = 0\n\n    [show]\n    show = True\n\n\n"
      ]
    },
    {
      "execution_count": null,
      "cell_type": "code",
      "source": [
        "from pylayers.antprop.coverage import *\nimport matplotlib.pyplot as plt\nimport time\nimport pdb\nC = Coverage()\nC.L._filename\nC.tx = np.array((39,1))\nstart = time.time()\nC.cover()\nfinish = time.time()\nC.show(figsize=(16,9))\n#print 'Tx position: ',C.tx \n#print 'Coverage in %1.2f seconds' % (finish-start)\nplt.show()"
      ],
      "metadata": {
        "collapsed": false
      },
      "outputs": []
    }
  ],
  "nbformat_minor": 0,
  "metadata": {
    "language_info": {
      "version": "3.5.4",
      "file_extension": ".py",
      "pygments_lexer": "ipython3",
      "codemirror_mode": {
        "name": "ipython",
        "version": 3
      },
      "name": "python",
      "mimetype": "text/x-python",
      "nbconvert_exporter": "python"
    },
    "kernelspec": {
      "display_name": "Python 3",
      "language": "python",
      "name": "python3"
    }
  }
}