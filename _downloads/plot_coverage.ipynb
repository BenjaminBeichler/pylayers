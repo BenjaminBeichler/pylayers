{
  "nbformat_minor": 0,
  "cells": [
    {
      "source": [
        "%matplotlib inline"
      ],
      "outputs": [],
      "cell_type": "code",
      "metadata": {
        "collapsed": false
      },
      "execution_count": null
    },
    {
      "cell_type": "markdown",
      "metadata": {},
      "source": [
        "\n# Indoor Radio Coverage with Motley Keenan\n\n\nThis is an example of Motley-Keenan coverage\n\nThe default configuration file coverage.ini.\nThe antenna assoaciated to each Access Point are handled in the module\npylayers/antprop/antenna.py\n\n    [grid]\n    nx = 80\n    ny = 40\n    boundary = [20,0,30,20]\n    mode = full ; file, zone , full\n    file = 'points.ini'\n\n    [layout]\n    filename = TA-Office.lay ; 0 40 0 15\n    ;filename = W2PTIN.lay\n    ;filename = Lstruc.lay\n\n    [ap]\n    0 = {'name':'room1','wstd':'ieee80211b','p':(1,12,1.2),'PtdBm':0,'chan':[11],'on':True,'ant':'Gauss','phideg':90}\n    1 = {'name':'room2','wstd':'ieee80211b','p':(10,2,1.2),'PtdBm':0,'chan':[11],'on':True,'ant':'Omni','phideg':0}\n    2 = {'name':'room3','wstd':'ieee80211b','p':(20,1,1.2),'PtdBm':0,'chan':[11],'on':True,'ant':'Gauss','phideg':75}\n    3 = {'name':'room4','wstd':'ieee80211b','p':(36.5,1.5,1.2),'PtdBm':0,'chan':[11],'on':True,'ant':'Gauss','phideg':120}\n    4 = {'name':'room5','wstd':'ieee80211b','p':(25,12,1.2),'PtdBm':0,'chan':[11],'on':True,'ant':'Gauss','phideg':180}\n\n    [rx]\n    temperaturek = 300\n    noisefactordb = 0\n\n    [show]\n    show = True\n\n\n"
      ]
    },
    {
      "source": [
        "from pylayers.antprop.coverage import *\nimport matplotlib.pyplot as plt\nimport time\nimport pdb\nC = Coverage()\nC.L._filename\nC.tx = np.array((39,1))\nstart = time.time()\nC.cover()\nfinish = time.time()\nC.show(figsize=(16,9))\n#print 'Tx position: ',C.tx \n#print 'Coverage in %1.2f seconds' % (finish-start)\nplt.show()"
      ],
      "outputs": [],
      "cell_type": "code",
      "metadata": {
        "collapsed": false
      },
      "execution_count": null
    }
  ],
  "metadata": {
    "kernelspec": {
      "display_name": "Python 3",
      "name": "python3",
      "language": "python"
    },
    "language_info": {
      "nbconvert_exporter": "python",
      "pygments_lexer": "ipython3",
      "version": "3.5.4",
      "codemirror_mode": {
        "version": 3,
        "name": "ipython"
      },
      "mimetype": "text/x-python",
      "file_extension": ".py",
      "name": "python"
    }
  },
  "nbformat": 4
}